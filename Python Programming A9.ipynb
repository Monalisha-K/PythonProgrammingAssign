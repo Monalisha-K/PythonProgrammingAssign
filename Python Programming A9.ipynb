{
 "cells": [
  {
   "cell_type": "markdown",
   "id": "fa8db0ad",
   "metadata": {},
   "source": [
    "# 1.\tWrite a Python program to check if the given number is a Disarium Number?"
   ]
  },
  {
   "cell_type": "markdown",
   "id": "7263128c",
   "metadata": {},
   "source": [
    "When sum of its digit raised to the power of their respective position is equal to given number.\n",
    "Example-89\n",
    "position 0f 8-1\n",
    "position of 9-2\n",
    "\n",
    "=8**1+9**2\n",
    "=8+81\n",
    "=89\n",
    "\n",
    "Eg- 175\n",
    "=1**1+7**2+5**3 (1 is at first position, 7 is at second and 5 is at third )\n",
    "=1+49+125\n",
    "=175 (is disarium number)"
   ]
  },
  {
   "cell_type": "code",
   "execution_count": 1,
   "id": "6a7fc6d1",
   "metadata": {},
   "outputs": [
    {
     "name": "stdout",
     "output_type": "stream",
     "text": [
      "Enter number: 82\n",
      "82 is not a disarium number\n"
     ]
    }
   ],
   "source": [
    "num=int(input(\"Enter number: \"))\n",
    "\n",
    "disarium=0\n",
    "temp=num\n",
    "\n",
    "def find_position(data):\n",
    "    str_data=str(data)\n",
    "    return len(str_data)\n",
    "\n",
    "while temp!=0:\n",
    "    disarium += (temp%10)**find_position(temp)\n",
    "    temp=temp//10\n",
    "    \n",
    "    \n",
    "if disarium==num:\n",
    "    print(f\"{num} is a disarium number\")\n",
    "else:\n",
    "    print(f\"{num} is not a disarium number\")"
   ]
  },
  {
   "cell_type": "markdown",
   "id": "c1c4ad72",
   "metadata": {},
   "source": [
    "# 2.\tWrite a Python program to print all disarium numbers between 1 to 100?"
   ]
  },
  {
   "cell_type": "code",
   "execution_count": 2,
   "id": "0d54bf4b",
   "metadata": {},
   "outputs": [],
   "source": [
    "def calculateLength(n):\n",
    "    length=0\n",
    "    while(n!=0):\n",
    "        length=length+1\n",
    "        n=n//10\n",
    "    return length\n",
    "\n",
    "def sumOfDigits(num):\n",
    "    rem=sum=0\n",
    "    len=calculateLength(num)\n",
    "    \n",
    "    while(num>0):\n",
    "        rem=num%10\n",
    "        sum=sum+(rem**len)\n",
    "        num=num//10\n",
    "        len=len-1\n",
    "    return sum\n",
    "    \n",
    "result =0\n"
   ]
  },
  {
   "cell_type": "code",
   "execution_count": 3,
   "id": "fc264d30",
   "metadata": {},
   "outputs": [
    {
     "name": "stdout",
     "output_type": "stream",
     "text": [
      "1\n",
      "2\n",
      "3\n",
      "4\n",
      "5\n",
      "6\n",
      "7\n",
      "8\n",
      "9\n",
      "89\n"
     ]
    }
   ],
   "source": [
    "for i in range(1,100):\n",
    "    result=sumOfDigits(i)\n",
    "    if(result==i):\n",
    "        print(i)"
   ]
  },
  {
   "cell_type": "markdown",
   "id": "e4ab4210",
   "metadata": {},
   "source": [
    "# 3.\tWrite a Python program to check if the given number is Happy Number?"
   ]
  },
  {
   "cell_type": "markdown",
   "id": "1223b62f",
   "metadata": {},
   "source": [
    "Happy number-recursivelly finding sum of square of individual digits until the sum becomes single digit and if\n",
    "the final single digit sum==1 , called as happy number\n",
    "\n",
    "eg- \n",
    "n=13\n",
    "sum = 1**2+3**2\n",
    "    =1+9\n",
    "    =10\n",
    "\n",
    "now we do square of 10\n",
    "sum=1**2+0**2\n",
    "    =1+0\n",
    "    =1(single digit and equal to  1)\n",
    "    \n",
    "So  n is happy number"
   ]
  },
  {
   "cell_type": "code",
   "execution_count": 4,
   "id": "89a26a78",
   "metadata": {},
   "outputs": [
    {
     "name": "stdout",
     "output_type": "stream",
     "text": [
      "Enter number: 13\n",
      "13 is happy number\n"
     ]
    }
   ],
   "source": [
    "n=int(input(\"Enter number: \"))\n",
    "x=n\n",
    "while x>=10:\n",
    "    sum=0\n",
    "    while x>0:\n",
    "        r=x%10\n",
    "        sum=sum+(r**2)\n",
    "        x=x//10\n",
    "    x=sum\n",
    "if x==1:\n",
    "    print(n,\"is happy number\")\n",
    "else:\n",
    "    print(n,\"is not happy number\")\n",
    "        \n"
   ]
  },
  {
   "cell_type": "markdown",
   "id": "a7d07f65",
   "metadata": {},
   "source": [
    "# 4.\tWrite a Python program to print all happy numbers between 1 and 100?"
   ]
  },
  {
   "cell_type": "code",
   "execution_count": 5,
   "id": "58161add",
   "metadata": {},
   "outputs": [],
   "source": [
    "def check_happy(num):\n",
    "    r=0\n",
    "    happy_num=0\n",
    "    while(num>0):\n",
    "        r=num%10\n",
    "        happy_num=happy_num+(r*r)\n",
    "        num=num//10\n",
    "    return happy_num\n",
    "            "
   ]
  },
  {
   "cell_type": "code",
   "execution_count": 6,
   "id": "26d460ee",
   "metadata": {},
   "outputs": [
    {
     "name": "stdout",
     "output_type": "stream",
     "text": [
      "Enter lower value: 1\n",
      "Enter higher value: 100\n",
      "1\n",
      "7\n",
      "10\n",
      "13\n",
      "19\n",
      "23\n",
      "28\n",
      "31\n",
      "32\n",
      "44\n",
      "49\n",
      "68\n",
      "70\n",
      "79\n",
      "82\n",
      "86\n",
      "91\n",
      "94\n",
      "97\n",
      "100\n"
     ]
    }
   ],
   "source": [
    "lower=int(input(\"Enter lower value: \"))\n",
    "higher=int(input(\"Enter higher value: \"))\n",
    "\n",
    "for i in range(lower,higher+1):\n",
    "    happy_num=i\n",
    "    while(happy_num!=1 and happy_num!=4):\n",
    "        happy_num=check_happy(happy_num)\n",
    "    if(happy_num==1):\n",
    "        print(i)"
   ]
  },
  {
   "cell_type": "markdown",
   "id": "effa9a16",
   "metadata": {},
   "source": [
    "# 5.\tWrite a Python program to determine whether the given number is a Harshad Number?"
   ]
  },
  {
   "cell_type": "markdown",
   "id": "34090af5",
   "metadata": {},
   "source": [
    "Harsad number- when number is divisible by sum of the digits\n",
    "eg- 156\n",
    "sum=1+5+6\n",
    "=12\n",
    "\n",
    "156 is divisible by 12 , so 156 is harsad number"
   ]
  },
  {
   "cell_type": "code",
   "execution_count": 7,
   "id": "f546054d",
   "metadata": {},
   "outputs": [
    {
     "name": "stdout",
     "output_type": "stream",
     "text": [
      "Enter num: 156\n",
      "The sum of digits is:  12\n",
      "156 is harsad number\n"
     ]
    }
   ],
   "source": [
    "num=int(input(\"Enter num: \"))\n",
    "Sum=0\n",
    "rem=0\n",
    "\n",
    "temp=num\n",
    "while temp>0:\n",
    "    rem=temp%10\n",
    "    Sum=Sum+rem\n",
    "    temp=temp//10\n",
    "    \n",
    "print(\"The sum of digits is: \",Sum)\n",
    "if num%Sum==0:\n",
    "    print(num,\"is harsad number\")\n",
    "else:\n",
    "    print(num,\"is not harsad number\")\n"
   ]
  },
  {
   "cell_type": "markdown",
   "id": "9898a7ee",
   "metadata": {},
   "source": [
    "# 6.\tWrite a Python program to print all pronic numbers between 1 and 100?"
   ]
  },
  {
   "cell_type": "markdown",
   "id": "520747ce",
   "metadata": {},
   "source": [
    "pronic number- number which is equal to product of two consecutive number\n",
    "eg- \n",
    "6=2*3\n",
    "12=3*4\n",
    "20=4*5\n",
    "\n",
    "not pronic number\n",
    "10=5*2\n"
   ]
  },
  {
   "cell_type": "code",
   "execution_count": 8,
   "id": "870f7541",
   "metadata": {},
   "outputs": [],
   "source": [
    "def isPronic(n):\n",
    "    flag=False\n",
    "    for i in range(1,n+1):\n",
    "        if(i*(i+1)==n):\n",
    "            flag=True\n",
    "            break\n",
    "    return flag"
   ]
  },
  {
   "cell_type": "code",
   "execution_count": 9,
   "id": "ec558613",
   "metadata": {},
   "outputs": [
    {
     "name": "stdout",
     "output_type": "stream",
     "text": [
      "2\n",
      "6\n",
      "12\n",
      "20\n",
      "30\n",
      "42\n",
      "56\n",
      "72\n",
      "90\n"
     ]
    }
   ],
   "source": [
    "for i in range(1,101):\n",
    "    if(isPronic(i)):\n",
    "        print(i)"
   ]
  }
 ],
 "metadata": {
  "kernelspec": {
   "display_name": "Python 3 (ipykernel)",
   "language": "python",
   "name": "python3"
  },
  "language_info": {
   "codemirror_mode": {
    "name": "ipython",
    "version": 3
   },
   "file_extension": ".py",
   "mimetype": "text/x-python",
   "name": "python",
   "nbconvert_exporter": "python",
   "pygments_lexer": "ipython3",
   "version": "3.9.7"
  }
 },
 "nbformat": 4,
 "nbformat_minor": 5
}
