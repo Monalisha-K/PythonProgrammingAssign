{
 "cells": [
  {
   "cell_type": "markdown",
   "id": "bb01fb3c",
   "metadata": {},
   "source": [
    "# 1.\tWrite a Python Program to Find the Factorial of a Number?\n"
   ]
  },
  {
   "cell_type": "markdown",
   "id": "d43e3ac6",
   "metadata": {},
   "source": [
    "\"\"\"Factorial of number means- product of all positive integer less than or equal to a given positive integer and \n",
    "                              denoted by the integer and exclamation point.\n",
    "                              Eg- factorial 4 written as 4! meaning 4*3*2*1 \"\"\""
   ]
  },
  {
   "cell_type": "code",
   "execution_count": 1,
   "id": "a1d0464e",
   "metadata": {},
   "outputs": [
    {
     "name": "stdout",
     "output_type": "stream",
     "text": [
      "Enter num: 5\n",
      "The factorial of  5 is 120\n"
     ]
    }
   ],
   "source": [
    "n=int(input(\"Enter num: \"))\n",
    "factorial=1\n",
    "if n<0:\n",
    "    print(\"Facorial doesnt exist for negative integer\")\n",
    "elif n==0:\n",
    "    print(\"Factorial of 0 is 1\")\n",
    "else:\n",
    "    for i in range(1,n+1):\n",
    "        factorial=factorial*i\n",
    "    print(\"The factorial of \",n,\"is\",factorial)"
   ]
  },
  {
   "cell_type": "markdown",
   "id": "bfbf69b3",
   "metadata": {},
   "source": [
    "# 2.\tWrite a Python Program to Display the multiplication Table?\n",
    "\n"
   ]
  },
  {
   "cell_type": "code",
   "execution_count": 2,
   "id": "ef40f550",
   "metadata": {},
   "outputs": [
    {
     "name": "stdout",
     "output_type": "stream",
     "text": [
      "Multiplication table : 14\n",
      "14 * 1 = 14\n",
      "14 * 2 = 28\n",
      "14 * 3 = 42\n",
      "14 * 4 = 56\n",
      "14 * 5 = 70\n",
      "14 * 6 = 84\n",
      "14 * 7 = 98\n",
      "14 * 8 = 112\n",
      "14 * 9 = 126\n",
      "14 * 10 = 140\n"
     ]
    }
   ],
   "source": [
    "n=int(input(\"Multiplication table : \"))\n",
    "for i in range(1,11):\n",
    "    print(n,\"*\",i,\"=\",n*i)"
   ]
  },
  {
   "cell_type": "markdown",
   "id": "ccdba628",
   "metadata": {},
   "source": [
    "# 3.\tWrite a Python Program to Print the Fibonacci sequence?\n"
   ]
  },
  {
   "cell_type": "markdown",
   "id": "4edbf378",
   "metadata": {},
   "source": [
    "\"\"\"Fibonaaci sequence= set of integers starts with 0, followed by a one then by another one \n",
    "                       and then by a series of steadily increasing numbers.\n",
    "                       Fibonaaci sequence=0,1,1,2,3,5,8,13,21....\n",
    "                       Eg-5 is obtained by adding previous two number.\"\"\""
   ]
  },
  {
   "cell_type": "code",
   "execution_count": 4,
   "id": "71149d4e",
   "metadata": {},
   "outputs": [
    {
     "name": "stdout",
     "output_type": "stream",
     "text": [
      "Enter term- 8\n",
      "Fibonacci sequence:\n",
      "0\n",
      "1\n",
      "1\n",
      "2\n",
      "3\n",
      "5\n",
      "8\n",
      "13\n"
     ]
    }
   ],
   "source": [
    "nterms=int(input(\"Enter term- \"))\n",
    "\n",
    "n1,n2=0,1\n",
    "count=0\n",
    "\n",
    "if nterms<=0:\n",
    "    print(\"Please enter positive integer greater than 0\")\n",
    "elif nterms==1:\n",
    "    print(\"Fibonacci sequence upto\",nterms,\":\")\n",
    "    print(n1)\n",
    "else:\n",
    "    print(\"Fibonacci sequence:\")\n",
    "    while count<nterms:\n",
    "        print(n1)\n",
    "        nth=n1+n2\n",
    "        \n",
    "        n1=n2\n",
    "        n2=nth\n",
    "        count=count+1"
   ]
  },
  {
   "cell_type": "markdown",
   "id": "0f833326",
   "metadata": {},
   "source": [
    "# 4.\tWrite a Python Program to Check Armstrong Number?\n"
   ]
  },
  {
   "cell_type": "markdown",
   "id": "723a8074",
   "metadata": {},
   "source": [
    "Armstrong nummber of 3 digit- sum of cubes of its digit is equal to number itself\n",
    "Eg- 153= 1**3 + 5**3 + 3**3 \n",
    "        =1+125+27\n",
    "        =153   "
   ]
  },
  {
   "cell_type": "code",
   "execution_count": 5,
   "id": "b2e57b02",
   "metadata": {},
   "outputs": [
    {
     "name": "stdout",
     "output_type": "stream",
     "text": [
      "Enter a number : 153\n",
      "It is Armstrong number\n"
     ]
    }
   ],
   "source": [
    "num=int(input(\"Enter a number : \"))\n",
    "\n",
    "sum=0\n",
    "temp=num\n",
    "\n",
    "while temp>0:\n",
    "    digit=temp%10     #storing last digit\n",
    "    cube=digit**3     # cube of last digit\n",
    "    sum=sum+cube      # adding that cube to sum \n",
    "    temp//=10         # floor division to remove last digit\n",
    "\n",
    "if sum==num:\n",
    "    print(\"It is Armstrong number\")\n",
    "else:\n",
    "    print(\"It is not Armstrong number\")"
   ]
  },
  {
   "cell_type": "markdown",
   "id": "bfe68657",
   "metadata": {},
   "source": [
    "# 5.\tWrite a Python Program to Find Armstrong Number in an Interval?\n"
   ]
  },
  {
   "cell_type": "code",
   "execution_count": 6,
   "id": "1859f6e2",
   "metadata": {},
   "outputs": [
    {
     "name": "stdout",
     "output_type": "stream",
     "text": [
      "Enter lower limit: 100\n",
      "Enter upper limit: 10000\n",
      "153\n",
      "370\n",
      "371\n",
      "407\n",
      "1634\n",
      "8208\n",
      "9474\n"
     ]
    }
   ],
   "source": [
    "lower=int(input(\"Enter lower limit: \"))\n",
    "upper=int(input(\"Enter upper limit: \"))\n",
    "\n",
    "\n",
    "for num in range(lower,upper+1):\n",
    "    order=len(str(num))\n",
    "    sum=0\n",
    "    temp=num\n",
    "    \n",
    "    while temp>0:\n",
    "        digit=temp%10\n",
    "        sum+=digit**order\n",
    "        temp//=10\n",
    "        \n",
    "    if sum==num:\n",
    "        print(num)\n",
    "         "
   ]
  },
  {
   "cell_type": "markdown",
   "id": "737ba173",
   "metadata": {},
   "source": [
    "# 6.\tWrite a Python Program to Find the Sum of Natural Numbers?"
   ]
  },
  {
   "cell_type": "code",
   "execution_count": 7,
   "id": "dcd69634",
   "metadata": {},
   "outputs": [
    {
     "name": "stdout",
     "output_type": "stream",
     "text": [
      "Enter number: 2\n",
      "SUM is  3\n"
     ]
    }
   ],
   "source": [
    "n=int(input(\"Enter number: \"))\n",
    "i=1    #(natural number starts from 1 )\n",
    "sum=0\n",
    "while(i<=n):\n",
    "    sum=sum+i\n",
    "    i=i+1\n",
    "    \n",
    "print(\"SUM is \", sum)"
   ]
  },
  {
   "cell_type": "code",
   "execution_count": null,
   "id": "d8d87bd9",
   "metadata": {},
   "outputs": [],
   "source": []
  }
 ],
 "metadata": {
  "kernelspec": {
   "display_name": "Python 3 (ipykernel)",
   "language": "python",
   "name": "python3"
  },
  "language_info": {
   "codemirror_mode": {
    "name": "ipython",
    "version": 3
   },
   "file_extension": ".py",
   "mimetype": "text/x-python",
   "name": "python",
   "nbconvert_exporter": "python",
   "pygments_lexer": "ipython3",
   "version": "3.9.7"
  }
 },
 "nbformat": 4,
 "nbformat_minor": 5
}
