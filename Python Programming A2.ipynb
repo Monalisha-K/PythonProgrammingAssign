{
 "cells": [
  {
   "cell_type": "markdown",
   "id": "bdce2a17",
   "metadata": {},
   "source": [
    "# 1.\tWrite a Python program to convert kilometers to miles?\n"
   ]
  },
  {
   "cell_type": "code",
   "execution_count": 1,
   "id": "c2792b9f",
   "metadata": {},
   "outputs": [
    {
     "name": "stdout",
     "output_type": "stream",
     "text": [
      "Enter no: 9\n",
      "5.59233\n"
     ]
    }
   ],
   "source": [
    "km=int(input(\"Enter no: \"))\n",
    "#1km=0.62137mile\n",
    "Mile=km*0.62137\n",
    "print(Mile)"
   ]
  },
  {
   "cell_type": "markdown",
   "id": "e0385903",
   "metadata": {},
   "source": [
    "# 2.\tWrite a Python program to convert Celsius to Fahrenheit"
   ]
  },
  {
   "cell_type": "code",
   "execution_count": 2,
   "id": "fec879f9",
   "metadata": {},
   "outputs": [
    {
     "name": "stdout",
     "output_type": "stream",
     "text": [
      "Enter celsius: 8\n",
      "46.4\n"
     ]
    }
   ],
   "source": [
    "celsius=int(input(\"Enter celsius: \"))\n",
    "Fahrenheit=celsius*1.8+32\n",
    "print(Fahrenheit)"
   ]
  },
  {
   "cell_type": "markdown",
   "id": "339c977c",
   "metadata": {},
   "source": [
    "# 3.\tWrite a Python program to display calendar?"
   ]
  },
  {
   "cell_type": "code",
   "execution_count": 3,
   "id": "34b575b4",
   "metadata": {},
   "outputs": [],
   "source": [
    "# import calendar module and use month() function which take input of year , month\n",
    "import calendar"
   ]
  },
  {
   "cell_type": "code",
   "execution_count": 4,
   "id": "19272a93",
   "metadata": {},
   "outputs": [
    {
     "name": "stdout",
     "output_type": "stream",
     "text": [
      "Enter year: 1998\n",
      "Enter month: 11\n",
      "   November 1998\n",
      "Mo Tu We Th Fr Sa Su\n",
      "                   1\n",
      " 2  3  4  5  6  7  8\n",
      " 9 10 11 12 13 14 15\n",
      "16 17 18 19 20 21 22\n",
      "23 24 25 26 27 28 29\n",
      "30\n",
      "\n"
     ]
    }
   ],
   "source": [
    "year=int(input(\"Enter year: \"))\n",
    "month=int(input(\"Enter month: \"))\n",
    "\n",
    "print(calendar.month(year,month))"
   ]
  },
  {
   "cell_type": "markdown",
   "id": "b45dc9da",
   "metadata": {},
   "source": [
    "# 4.\tWrite a Python program to solve quadratic equation?"
   ]
  },
  {
   "cell_type": "code",
   "execution_count": 5,
   "id": "3fe61537",
   "metadata": {},
   "outputs": [],
   "source": [
    "#Quadratic equation: ax**2+bx+c=0\n",
    "#import cmath module for complex square root \n",
    "\n",
    "import cmath"
   ]
  },
  {
   "cell_type": "code",
   "execution_count": 6,
   "id": "808d1076",
   "metadata": {},
   "outputs": [
    {
     "name": "stdout",
     "output_type": "stream",
     "text": [
      "Enter a: 1\n",
      "Enter b: 8\n",
      "Enter c: 6\n"
     ]
    }
   ],
   "source": [
    "a=int(input(\"Enter a: \"))\n",
    "b=int(input(\"Enter b: \"))\n",
    "c=int(input(\"Enter c: \"))"
   ]
  },
  {
   "cell_type": "code",
   "execution_count": 7,
   "id": "a28f3dcf",
   "metadata": {},
   "outputs": [],
   "source": [
    "# discriminant\n",
    "dis=(b**2)-(4*a*c)"
   ]
  },
  {
   "cell_type": "code",
   "execution_count": 8,
   "id": "55507e52",
   "metadata": {},
   "outputs": [],
   "source": [
    "# Solution\n",
    "sol1=(-b-cmath.sqrt(dis))/(2*a)\n",
    "sol2=(-b+cmath.sqrt(dis))/(2*a)"
   ]
  },
  {
   "cell_type": "code",
   "execution_count": 9,
   "id": "fc64674a",
   "metadata": {},
   "outputs": [
    {
     "name": "stdout",
     "output_type": "stream",
     "text": [
      "The solution are (-7.16227766016838+0j) and (-0.8377223398316205+0j)\n"
     ]
    }
   ],
   "source": [
    "print(\"The solution are {0} and {1}\".format(sol1,sol2))"
   ]
  },
  {
   "cell_type": "markdown",
   "id": "455b26d0",
   "metadata": {},
   "source": [
    "# 5.\tWrite a Python program to swap two variables without temp variable?"
   ]
  },
  {
   "cell_type": "code",
   "execution_count": 10,
   "id": "11596d53",
   "metadata": {},
   "outputs": [
    {
     "name": "stdout",
     "output_type": "stream",
     "text": [
      "Enter x: 7\n",
      "Enter y: 8\n",
      "The value of x is 8\n",
      "The value of y is 7\n"
     ]
    }
   ],
   "source": [
    "x=int(input(\"Enter x: \"))\n",
    "y=int(input(\"Enter y: \"))\n",
    "\n",
    "x,y=y,x\n",
    "print(\"The value of x is\",x)\n",
    "print(\"The value of y is\",y)"
   ]
  }
 ],
 "metadata": {
  "kernelspec": {
   "display_name": "Python 3 (ipykernel)",
   "language": "python",
   "name": "python3"
  },
  "language_info": {
   "codemirror_mode": {
    "name": "ipython",
    "version": 3
   },
   "file_extension": ".py",
   "mimetype": "text/x-python",
   "name": "python",
   "nbconvert_exporter": "python",
   "pygments_lexer": "ipython3",
   "version": "3.9.7"
  }
 },
 "nbformat": 4,
 "nbformat_minor": 5
}
