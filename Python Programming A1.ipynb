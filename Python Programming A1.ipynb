{
 "cells": [
  {
   "cell_type": "markdown",
   "id": "96876959",
   "metadata": {},
   "source": [
    "# 1.Write a Python program to print \"Hello Python\"?\n"
   ]
  },
  {
   "cell_type": "code",
   "execution_count": 1,
   "id": "41b4e40e",
   "metadata": {},
   "outputs": [
    {
     "name": "stdout",
     "output_type": "stream",
     "text": [
      "Hello Python\n"
     ]
    }
   ],
   "source": [
    " print(\"Hello Python\")"
   ]
  },
  {
   "cell_type": "markdown",
   "id": "3e18bfb9",
   "metadata": {},
   "source": [
    "# 2.\tWrite a Python program to do arithmetical operations addition and division.?"
   ]
  },
  {
   "cell_type": "code",
   "execution_count": 2,
   "id": "4f4f031d",
   "metadata": {},
   "outputs": [
    {
     "name": "stdout",
     "output_type": "stream",
     "text": [
      "Enter first no: 8\n",
      "Enter second no: 4\n",
      "Addition of x and y is  12\n",
      "Division of x and y is  2.0\n"
     ]
    }
   ],
   "source": [
    "x=int(input(\"Enter first no: \"))\n",
    "y=int(input(\"Enter second no: \"))\n",
    "\n",
    "print(\"Addition of x and y is \",x+y)\n",
    "print(\"Division of x and y is \",x/y)"
   ]
  },
  {
   "cell_type": "markdown",
   "id": "0a43f8e4",
   "metadata": {},
   "source": [
    "# 3.\tWrite a Python program to find the area of a triangle?"
   ]
  },
  {
   "cell_type": "code",
   "execution_count": 5,
   "id": "91450654",
   "metadata": {},
   "outputs": [
    {
     "name": "stdout",
     "output_type": "stream",
     "text": [
      "Enter base: 8\n",
      "Enter height: 6\n",
      "Area of triangle is 24.0\n"
     ]
    }
   ],
   "source": [
    "B=int(input(\"Enter base: \"))\n",
    "H=int(input(\"Enter height: \"))\n",
    "Area_triangle=1/2*B*H\n",
    "print(\"Area of triangle is\",Area_triangle)"
   ]
  },
  {
   "cell_type": "markdown",
   "id": "75df1507",
   "metadata": {},
   "source": [
    "# 4.\tWrite a Python program to swap two variables?\n",
    "\n"
   ]
  },
  {
   "cell_type": "code",
   "execution_count": 6,
   "id": "a64832f6",
   "metadata": {},
   "outputs": [
    {
     "name": "stdout",
     "output_type": "stream",
     "text": [
      "Enter x: 5\n",
      "Enter y: 8\n",
      "x = 8\n",
      "y = 5\n"
     ]
    }
   ],
   "source": [
    "x=int(input(\"Enter x: \"))\n",
    "y=int(input(\"Enter y: \"))\n",
    "\n",
    "x,y=y,x\n",
    "print(\"x =\",x)\n",
    "print(\"y =\",y)"
   ]
  },
  {
   "cell_type": "markdown",
   "id": "93cb2d45",
   "metadata": {},
   "source": [
    "# 5.\tWrite a Python program to generate a random number?"
   ]
  },
  {
   "cell_type": "code",
   "execution_count": 9,
   "id": "2a6798ef",
   "metadata": {},
   "outputs": [],
   "source": [
    "# import module random and use randint function\n",
    "\n",
    "import random"
   ]
  },
  {
   "cell_type": "code",
   "execution_count": 13,
   "id": "e53c8008",
   "metadata": {},
   "outputs": [],
   "source": [
    "x=random.randint(0,8)"
   ]
  },
  {
   "cell_type": "code",
   "execution_count": 14,
   "id": "911dca5c",
   "metadata": {},
   "outputs": [
    {
     "name": "stdout",
     "output_type": "stream",
     "text": [
      "5\n"
     ]
    }
   ],
   "source": [
    "print(x)"
   ]
  }
 ],
 "metadata": {
  "kernelspec": {
   "display_name": "Python 3 (ipykernel)",
   "language": "python",
   "name": "python3"
  },
  "language_info": {
   "codemirror_mode": {
    "name": "ipython",
    "version": 3
   },
   "file_extension": ".py",
   "mimetype": "text/x-python",
   "name": "python",
   "nbconvert_exporter": "python",
   "pygments_lexer": "ipython3",
   "version": "3.9.7"
  }
 },
 "nbformat": 4,
 "nbformat_minor": 5
}
