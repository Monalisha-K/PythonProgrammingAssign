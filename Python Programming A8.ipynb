{
 "cells": [
  {
   "cell_type": "markdown",
   "id": "da031a11",
   "metadata": {},
   "source": [
    "# 1.\tWrite a Python Program to Add Two Matrices?\n"
   ]
  },
  {
   "cell_type": "code",
   "execution_count": 1,
   "id": "15bf972d",
   "metadata": {},
   "outputs": [
    {
     "name": "stdout",
     "output_type": "stream",
     "text": [
      "[4, 9, 12]\n",
      "[12, 13, 13]\n",
      "[9, 12, 10]\n"
     ]
    }
   ],
   "source": [
    "A=[[1,5,6],\n",
    "   [3,5,6],\n",
    "   [8,9,5]]\n",
    "\n",
    "B=[[3,4,6],\n",
    "   [9,8,7],\n",
    "   [1,3,5]]\n",
    "\n",
    "Addition=[[0,0,0],\n",
    "   [0,0,0],\n",
    "   [0,0,0]]\n",
    "\n",
    "for i in range(len(A)):\n",
    "    for j in range(len(A[0])):\n",
    "        Addition[i][j]= A[i][j] + B[i][j]\n",
    "        \n",
    "\n",
    "for a in Addition:        \n",
    "    print(a)\n"
   ]
  },
  {
   "cell_type": "markdown",
   "id": "9444e0f0",
   "metadata": {},
   "source": [
    "# 2.\tWrite a Python Program to Multiply Two Matrices?\n",
    "\n"
   ]
  },
  {
   "cell_type": "code",
   "execution_count": 2,
   "id": "afdc0385",
   "metadata": {},
   "outputs": [
    {
     "name": "stdout",
     "output_type": "stream",
     "text": [
      "[3, 20, 36]\n",
      "[27, 40, 42]\n",
      "[8, 27, 25]\n"
     ]
    }
   ],
   "source": [
    "A=[[1,5,6],\n",
    "   [3,5,6],\n",
    "   [8,9,5]]\n",
    "\n",
    "B=[[3,4,6],\n",
    "   [9,8,7],\n",
    "   [1,3,5]]\n",
    "\n",
    "Multiply=[[0,0,0],\n",
    "   [0,0,0],\n",
    "   [0,0,0]]\n",
    "\n",
    "for i in range(len(A)):\n",
    "    for j in range(len(A[0])):\n",
    "        Multiply[i][j]= A[i][j] * B[i][j]\n",
    "        \n",
    "\n",
    "for a in Multiply:        \n",
    "    print(a)"
   ]
  },
  {
   "cell_type": "markdown",
   "id": "b430f744",
   "metadata": {},
   "source": [
    "# 3.\tWrite a Python Program to Transpose a Matrix?\n"
   ]
  },
  {
   "cell_type": "code",
   "execution_count": 3,
   "id": "ade3febe",
   "metadata": {},
   "outputs": [
    {
     "name": "stdout",
     "output_type": "stream",
     "text": [
      "[1, 4]\n",
      "[2, 5]\n",
      "[3, 6]\n"
     ]
    }
   ],
   "source": [
    "#Transpose a Matrix - coverting column to row , vice-versa\n",
    "\n",
    "A=[[1,2,3],\n",
    "   [4,5,6]]\n",
    "\n",
    "X=[[0,0],\n",
    "   [0,0],\n",
    "   [0,0]]\n",
    "\n",
    "for i in range(len(A)):\n",
    "    for j in range(len(A[0])):\n",
    "        X[j][i]=A[i][j]\n",
    "        \n",
    "for i in X:\n",
    "    print(i)\n"
   ]
  },
  {
   "cell_type": "markdown",
   "id": "d9c9735e",
   "metadata": {},
   "source": [
    "# 4.\tWrite a Python Program to Sort Words in Alphabetic Order?\n"
   ]
  },
  {
   "cell_type": "code",
   "execution_count": 4,
   "id": "db97bc4a",
   "metadata": {},
   "outputs": [
    {
     "name": "stdout",
     "output_type": "stream",
     "text": [
      "Enter sentence: You are a beautiful person\n",
      "a\n",
      "are\n",
      "beautiful\n",
      "person\n",
      "you\n"
     ]
    }
   ],
   "source": [
    "a=input(\"Enter sentence: \")\n",
    "\n",
    "x=a.split()\n",
    "#print(x)\n",
    "\n",
    "for i in range(len(x)):\n",
    "    x[i]=x[i].lower()\n",
    "#print(x)\n",
    "\n",
    "x.sort()\n",
    "#print(x)\n",
    "\n",
    "for i in x:\n",
    "    print(i)"
   ]
  },
  {
   "cell_type": "markdown",
   "id": "04c62238",
   "metadata": {},
   "source": [
    "# 5.\tWrite a Python Program to Remove Punctuation From a String?"
   ]
  },
  {
   "cell_type": "code",
   "execution_count": 5,
   "id": "3d1cf780",
   "metadata": {},
   "outputs": [],
   "source": [
    "# Punctuation are- () {} \"\" '' ! < > ?"
   ]
  },
  {
   "cell_type": "code",
   "execution_count": 6,
   "id": "76ab3a16",
   "metadata": {},
   "outputs": [],
   "source": [
    "punc=\"\"\"!()-[]{};:'\"\\,<>./?@#$%^&*_~\"\"\""
   ]
  },
  {
   "cell_type": "code",
   "execution_count": 7,
   "id": "80bdf9a1",
   "metadata": {},
   "outputs": [
    {
     "name": "stdout",
     "output_type": "stream",
     "text": [
      "Enter: Hello! how are you??\n",
      "Hello how are you\n"
     ]
    }
   ],
   "source": [
    "s=input(\"Enter: \")\n",
    "\n",
    "empty_str=\"\"\n",
    "\n",
    "for i in s:\n",
    "    if i not in punc:\n",
    "        empty_str=empty_str+i     #empty_str+=i  \n",
    "        \n",
    "    \n",
    "print(empty_str)"
   ]
  }
 ],
 "metadata": {
  "kernelspec": {
   "display_name": "Python 3 (ipykernel)",
   "language": "python",
   "name": "python3"
  },
  "language_info": {
   "codemirror_mode": {
    "name": "ipython",
    "version": 3
   },
   "file_extension": ".py",
   "mimetype": "text/x-python",
   "name": "python",
   "nbconvert_exporter": "python",
   "pygments_lexer": "ipython3",
   "version": "3.9.7"
  }
 },
 "nbformat": 4,
 "nbformat_minor": 5
}
