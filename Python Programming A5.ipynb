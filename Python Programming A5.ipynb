{
 "cells": [
  {
   "cell_type": "markdown",
   "id": "584d7225",
   "metadata": {},
   "source": [
    "# 1.\tWrite a Python Program to Find LCM?"
   ]
  },
  {
   "cell_type": "code",
   "execution_count": 1,
   "id": "a12fb3b0",
   "metadata": {},
   "outputs": [
    {
     "name": "stdout",
     "output_type": "stream",
     "text": [
      "Enter first number: 12\n",
      "Enter second number: 8\n",
      "The LCM is: 24\n"
     ]
    }
   ],
   "source": [
    "#least common multiple\n",
    "\n",
    "a=int(input(\"Enter first number: \"))\n",
    "b=int(input(\"Enter second number: \"))\n",
    "\n",
    "for i in range(1,a*b+1):\n",
    "    if (i%a==0) and( i%b==0):\n",
    "        print(\"The LCM is:\",i)\n",
    "        break"
   ]
  },
  {
   "cell_type": "markdown",
   "id": "cb55ea35",
   "metadata": {},
   "source": [
    "# 2.\tWrite a Python Program to Find HCF?"
   ]
  },
  {
   "cell_type": "code",
   "execution_count": 2,
   "id": "700bc74f",
   "metadata": {},
   "outputs": [
    {
     "name": "stdout",
     "output_type": "stream",
     "text": [
      "Enter first number\n",
      "28\n",
      "Enter second number\n",
      "4\n",
      "The HCF is 4\n"
     ]
    }
   ],
   "source": [
    "#Highest common factor\n",
    "num1=int(input(\"Enter first number\\n\"))\n",
    "num2=int(input(\"Enter second number\\n\"))\n",
    "\n",
    "if num2>num1:\n",
    "    mini=num1\n",
    "else:\n",
    "    mini=num2\n",
    "for i in range(1,mini+1):\n",
    "    if(num1%i==0) and(num2%i==0):\n",
    "        hcf=i\n",
    "        \n",
    "print(f\"The HCF is {hcf}\")"
   ]
  },
  {
   "cell_type": "markdown",
   "id": "a50d91e5",
   "metadata": {},
   "source": [
    "# 3.\tWrite a Python Program to Convert Decimal to Binary, Octal and Hexadecimal?"
   ]
  },
  {
   "cell_type": "code",
   "execution_count": 3,
   "id": "40390159",
   "metadata": {},
   "outputs": [
    {
     "name": "stdout",
     "output_type": "stream",
     "text": [
      "Enter number: 15\n",
      "The decimal value of 15 is:\n",
      "0b1111 in binary.\n",
      "0o17 in octal.\n",
      "0xf in hexadecimal.\n"
     ]
    }
   ],
   "source": [
    "n=int(input(\"Enter number: \"))\n",
    "\n",
    "print(f\"The decimal value of {n} is:\")\n",
    "print(bin(n),\"in binary.\")\n",
    "print(oct(n),\"in octal.\")\n",
    "print(hex(n),\"in hexadecimal.\")"
   ]
  },
  {
   "cell_type": "markdown",
   "id": "fc77e1b0",
   "metadata": {},
   "source": [
    "# 4.\tWrite a Python Program To Find ASCII value of a character?"
   ]
  },
  {
   "cell_type": "code",
   "execution_count": 4,
   "id": "a923d228",
   "metadata": {},
   "outputs": [
    {
     "name": "stdout",
     "output_type": "stream",
     "text": [
      "Enter character: M\n",
      "The ASCII vale of M is: 77\n"
     ]
    }
   ],
   "source": [
    "#American Standard Code for Information Interchange\n",
    "x=input(\"Enter character: \")\n",
    "print(f\"The ASCII vale of {x} is:\",ord(x))"
   ]
  },
  {
   "cell_type": "markdown",
   "id": "4fd53bb2",
   "metadata": {},
   "source": [
    "# 5.\tWrite a Python Program to Make a Simple Calculator with 4 basic mathematical operations?"
   ]
  },
  {
   "cell_type": "code",
   "execution_count": 5,
   "id": "c6e8133b",
   "metadata": {},
   "outputs": [
    {
     "name": "stdout",
     "output_type": "stream",
     "text": [
      "Enter first number: 4\n",
      "Enter second number: 3\n",
      "Addition : 7\n",
      "Subtraction: 1\n",
      "Division: 1.3333333333333333\n",
      "Multiplication: 12\n"
     ]
    }
   ],
   "source": [
    "n1=int(input(\"Enter first number: \"))\n",
    "n2=int(input(\"Enter second number: \"))\n",
    "print(\"Addition :\",n1 +n2)\n",
    "print(\"Subtraction:\",n1-n2)\n",
    "print(\"Division:\",n1/n2)\n",
    "print(\"Multiplication:\",n1*n2)"
   ]
  }
 ],
 "metadata": {
  "kernelspec": {
   "display_name": "Python 3 (ipykernel)",
   "language": "python",
   "name": "python3"
  },
  "language_info": {
   "codemirror_mode": {
    "name": "ipython",
    "version": 3
   },
   "file_extension": ".py",
   "mimetype": "text/x-python",
   "name": "python",
   "nbconvert_exporter": "python",
   "pygments_lexer": "ipython3",
   "version": "3.9.7"
  }
 },
 "nbformat": 4,
 "nbformat_minor": 5
}
