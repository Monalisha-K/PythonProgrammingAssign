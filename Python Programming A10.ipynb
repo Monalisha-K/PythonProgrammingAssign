{
 "cells": [
  {
   "cell_type": "markdown",
   "id": "41e200cc",
   "metadata": {},
   "source": [
    "# 1.\tWrite a Python program to find sum of elements in list?"
   ]
  },
  {
   "cell_type": "code",
   "execution_count": 1,
   "id": "205f5257",
   "metadata": {},
   "outputs": [
    {
     "name": "stdout",
     "output_type": "stream",
     "text": [
      "Sum of all the elements in list:  15\n"
     ]
    }
   ],
   "source": [
    "sum=0\n",
    "list=[1,2,3,4,5]\n",
    "for i in range(0,len(list)):\n",
    "    sum=sum+list[i]\n",
    "    \n",
    "print(\"Sum of all the elements in list: \",sum)"
   ]
  },
  {
   "cell_type": "markdown",
   "id": "84e793b8",
   "metadata": {},
   "source": [
    "# 2.\tWrite a Python program to  Multiply all numbers in the list?"
   ]
  },
  {
   "cell_type": "code",
   "execution_count": 6,
   "id": "742e20cb",
   "metadata": {},
   "outputs": [],
   "source": [
    "def productList(list):\n",
    "    value=1\n",
    "    for i in range(0,len(list)):\n",
    "        value=value*list[i]\n",
    "    return value"
   ]
  },
  {
   "cell_type": "code",
   "execution_count": 7,
   "id": "f6b4702b",
   "metadata": {},
   "outputs": [
    {
     "name": "stdout",
     "output_type": "stream",
     "text": [
      "120\n"
     ]
    }
   ],
   "source": [
    "l=[1,2,3,4,5]\n",
    "print(productList(l))"
   ]
  },
  {
   "cell_type": "markdown",
   "id": "d1fbf35c",
   "metadata": {},
   "source": [
    "Another method"
   ]
  },
  {
   "cell_type": "code",
   "execution_count": 8,
   "id": "9f3205d4",
   "metadata": {},
   "outputs": [
    {
     "name": "stdout",
     "output_type": "stream",
     "text": [
      "Multiply of all the elements in list:  120\n"
     ]
    }
   ],
   "source": [
    "m=1\n",
    "list=[1,2,3,4,5]\n",
    "for i in range(0,len(list)):\n",
    "    m=m*list[i]\n",
    "    \n",
    "print(\"Multiply of all the elements in list: \",m)"
   ]
  },
  {
   "cell_type": "markdown",
   "id": "4444bf89",
   "metadata": {},
   "source": [
    "# 3.\tWrite a Python program to find smallest number in a list?\n"
   ]
  },
  {
   "cell_type": "code",
   "execution_count": 9,
   "id": "ae701bee",
   "metadata": {},
   "outputs": [],
   "source": [
    "l=[1,2,3,4,5]"
   ]
  },
  {
   "cell_type": "code",
   "execution_count": 10,
   "id": "3df77740",
   "metadata": {},
   "outputs": [],
   "source": [
    "smallest=min(l)"
   ]
  },
  {
   "cell_type": "code",
   "execution_count": 11,
   "id": "c6cb23f8",
   "metadata": {},
   "outputs": [
    {
     "name": "stdout",
     "output_type": "stream",
     "text": [
      "smallest number in the list is : 1\n"
     ]
    }
   ],
   "source": [
    "print(f\"smallest number in the list is : {smallest}\")"
   ]
  },
  {
   "cell_type": "markdown",
   "id": "ff390118",
   "metadata": {},
   "source": [
    "# 4.\tWrite a Python program to find largest number in a list?\n"
   ]
  },
  {
   "cell_type": "code",
   "execution_count": 12,
   "id": "e4bd0e24",
   "metadata": {},
   "outputs": [
    {
     "name": "stdout",
     "output_type": "stream",
     "text": [
      "largest number in the list is : 5\n"
     ]
    }
   ],
   "source": [
    "l=[1,2,3,4,5]\n",
    "largest=max(l)\n",
    "print(f\"largest number in the list is : {largest}\")"
   ]
  },
  {
   "cell_type": "markdown",
   "id": "9c47b123",
   "metadata": {},
   "source": [
    "# 5.\tWrite a Python program to find second largest number in a list?"
   ]
  },
  {
   "cell_type": "code",
   "execution_count": 10,
   "id": "7678d13e",
   "metadata": {},
   "outputs": [],
   "source": [
    "l=[10,20,40,80,60]"
   ]
  },
  {
   "cell_type": "code",
   "execution_count": 11,
   "id": "8573ec62",
   "metadata": {},
   "outputs": [],
   "source": [
    "l.sort()"
   ]
  },
  {
   "cell_type": "code",
   "execution_count": 12,
   "id": "338d7c55",
   "metadata": {},
   "outputs": [
    {
     "data": {
      "text/plain": [
       "[10, 20, 40, 60, 80]"
      ]
     },
     "execution_count": 12,
     "metadata": {},
     "output_type": "execute_result"
    }
   ],
   "source": [
    "l"
   ]
  },
  {
   "cell_type": "code",
   "execution_count": 13,
   "id": "0f564045",
   "metadata": {},
   "outputs": [
    {
     "name": "stdout",
     "output_type": "stream",
     "text": [
      "The second largest number in list: 60\n"
     ]
    }
   ],
   "source": [
    "print(\"The second largest number in list:\",l[-2])"
   ]
  },
  {
   "cell_type": "markdown",
   "id": "a51d64e2",
   "metadata": {},
   "source": [
    "# 6.\tWrite a Python program to find N largest elements from a list?\n"
   ]
  },
  {
   "cell_type": "code",
   "execution_count": 14,
   "id": "4fccfd04",
   "metadata": {},
   "outputs": [],
   "source": [
    "l=[20,90,30,88,-29]"
   ]
  },
  {
   "cell_type": "code",
   "execution_count": 15,
   "id": "cff0c5c3",
   "metadata": {},
   "outputs": [],
   "source": [
    "n=4\n",
    "l.sort()"
   ]
  },
  {
   "cell_type": "code",
   "execution_count": 16,
   "id": "12b4bfd5",
   "metadata": {},
   "outputs": [
    {
     "data": {
      "text/plain": [
       "[-29, 20, 30, 88, 90]"
      ]
     },
     "execution_count": 16,
     "metadata": {},
     "output_type": "execute_result"
    }
   ],
   "source": [
    "l"
   ]
  },
  {
   "cell_type": "code",
   "execution_count": 17,
   "id": "f41bb2d3",
   "metadata": {},
   "outputs": [
    {
     "name": "stdout",
     "output_type": "stream",
     "text": [
      "[20, 30, 88, 90]\n"
     ]
    }
   ],
   "source": [
    "print(l[-4:])"
   ]
  },
  {
   "cell_type": "markdown",
   "id": "2714791b",
   "metadata": {},
   "source": [
    "# 7.\tWrite a Python program to print even numbers in a list?\n"
   ]
  },
  {
   "cell_type": "code",
   "execution_count": 18,
   "id": "c4eb41b5",
   "metadata": {},
   "outputs": [
    {
     "name": "stdout",
     "output_type": "stream",
     "text": [
      "2\n",
      "4\n",
      "6\n",
      "8\n"
     ]
    }
   ],
   "source": [
    "l=[1,2,3,4,5,6,7,8]\n",
    "for i in l:\n",
    "    if i%2==0:\n",
    "        print(i)"
   ]
  },
  {
   "cell_type": "markdown",
   "id": "d82f93a5",
   "metadata": {},
   "source": [
    "# 8.\tWrite a Python program to print odd numbers in a List?\n"
   ]
  },
  {
   "cell_type": "code",
   "execution_count": 19,
   "id": "385bedbe",
   "metadata": {},
   "outputs": [
    {
     "name": "stdout",
     "output_type": "stream",
     "text": [
      "1\n",
      "3\n",
      "5\n",
      "7\n"
     ]
    }
   ],
   "source": [
    "l=[1,2,3,4,5,6,7,8]\n",
    "for i in l:\n",
    "    if i%2!=0:\n",
    "        print(i)"
   ]
  },
  {
   "cell_type": "markdown",
   "id": "0a052234",
   "metadata": {},
   "source": [
    "# 9.\tWrite a Python program to Remove empty List from List?\n"
   ]
  },
  {
   "cell_type": "code",
   "execution_count": 20,
   "id": "91b4eb4e",
   "metadata": {},
   "outputs": [],
   "source": [
    "l=[5,6,[],3,[],9]"
   ]
  },
  {
   "cell_type": "code",
   "execution_count": 23,
   "id": "b73fb160",
   "metadata": {},
   "outputs": [
    {
     "name": "stdout",
     "output_type": "stream",
     "text": [
      "5\n",
      "6\n",
      "3\n",
      "9\n"
     ]
    }
   ],
   "source": [
    "\n",
    "for i in l:\n",
    "    if i!=[]:\n",
    "        print(i)\n",
    "    \n",
    "    "
   ]
  },
  {
   "cell_type": "markdown",
   "id": "99c0a26b",
   "metadata": {},
   "source": [
    "# 10.\tWrite a Python program to Cloning or Copying a list?\n"
   ]
  },
  {
   "cell_type": "code",
   "execution_count": 24,
   "id": "0dbc222f",
   "metadata": {},
   "outputs": [],
   "source": [
    "def cloning(l):\n",
    "    l_copy=l\n",
    "    return l_copy"
   ]
  },
  {
   "cell_type": "code",
   "execution_count": 25,
   "id": "89498356",
   "metadata": {},
   "outputs": [],
   "source": [
    "l=[15,7,8,9]"
   ]
  },
  {
   "cell_type": "code",
   "execution_count": 26,
   "id": "c739293f",
   "metadata": {},
   "outputs": [],
   "source": [
    "l2=cloning(l)"
   ]
  },
  {
   "cell_type": "code",
   "execution_count": 27,
   "id": "a0e96c92",
   "metadata": {},
   "outputs": [
    {
     "name": "stdout",
     "output_type": "stream",
     "text": [
      "After cloning list is: [15, 7, 8, 9]\n"
     ]
    }
   ],
   "source": [
    "print(\"After cloning list is:\",l2)"
   ]
  },
  {
   "cell_type": "markdown",
   "id": "38ad7cf9",
   "metadata": {},
   "source": [
    "# 11.\tWrite a Python program to Count occurrences of an element in a list?"
   ]
  },
  {
   "cell_type": "code",
   "execution_count": 28,
   "id": "7dbd59ce",
   "metadata": {},
   "outputs": [],
   "source": [
    "def count(l,x):\n",
    "    count=0\n",
    "    for i in l:\n",
    "        if (i==x):\n",
    "            count=count+1\n",
    "    return count"
   ]
  },
  {
   "cell_type": "code",
   "execution_count": 31,
   "id": "f4b27bbc",
   "metadata": {},
   "outputs": [],
   "source": [
    "l1=[3,5,6,5,5,6,5,8,9]\n",
    "x=5"
   ]
  },
  {
   "cell_type": "code",
   "execution_count": 32,
   "id": "7d3f9e15",
   "metadata": {},
   "outputs": [
    {
     "data": {
      "text/plain": [
       "4"
      ]
     },
     "execution_count": 32,
     "metadata": {},
     "output_type": "execute_result"
    }
   ],
   "source": [
    "count(l1,x)"
   ]
  },
  {
   "cell_type": "code",
   "execution_count": null,
   "id": "cc392bf7",
   "metadata": {},
   "outputs": [],
   "source": []
  }
 ],
 "metadata": {
  "kernelspec": {
   "display_name": "Python 3 (ipykernel)",
   "language": "python",
   "name": "python3"
  },
  "language_info": {
   "codemirror_mode": {
    "name": "ipython",
    "version": 3
   },
   "file_extension": ".py",
   "mimetype": "text/x-python",
   "name": "python",
   "nbconvert_exporter": "python",
   "pygments_lexer": "ipython3",
   "version": "3.9.7"
  }
 },
 "nbformat": 4,
 "nbformat_minor": 5
}
